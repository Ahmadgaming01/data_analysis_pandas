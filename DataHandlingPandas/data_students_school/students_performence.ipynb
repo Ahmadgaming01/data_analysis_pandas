{
 "cells": [
  {
   "cell_type": "code",
   "execution_count": 1,
   "metadata": {},
   "outputs": [],
   "source": [
    "import pandas as pd \n",
    "import matplotlib.pyplot as plt\n",
    "import seaborn as sns\n"
   ]
  },
  {
   "cell_type": "code",
   "execution_count": 2,
   "metadata": {},
   "outputs": [
    {
     "name": "stdout",
     "output_type": "stream",
     "text": [
      "<class 'pandas.core.frame.DataFrame'>\n",
      "RangeIndex: 1000 entries, 0 to 999\n",
      "Data columns (total 8 columns):\n",
      " #   Column                       Non-Null Count  Dtype \n",
      "---  ------                       --------------  ----- \n",
      " 0   gender                       1000 non-null   object\n",
      " 1   race/ethnicity               1000 non-null   object\n",
      " 2   parental level of education  1000 non-null   object\n",
      " 3   lunch                        1000 non-null   object\n",
      " 4   test preparation course      1000 non-null   object\n",
      " 5   math score                   1000 non-null   int64 \n",
      " 6   reading score                1000 non-null   int64 \n",
      " 7   writing score                1000 non-null   int64 \n",
      "dtypes: int64(3), object(5)\n",
      "memory usage: 62.6+ KB\n"
     ]
    },
    {
     "data": {
      "text/plain": [
       "gender                          2\n",
       "race/ethnicity                  5\n",
       "parental level of education     6\n",
       "lunch                           2\n",
       "test preparation course         2\n",
       "math score                     81\n",
       "reading score                  72\n",
       "writing score                  77\n",
       "dtype: int64"
      ]
     },
     "execution_count": 2,
     "metadata": {},
     "output_type": "execute_result"
    }
   ],
   "source": [
    "df = pd.read_csv('StudentsPerformance.csv')\n",
    "df.info()\n",
    "df.duplicated().sum()\n",
    "df.nunique()\n"
   ]
  },
  {
   "cell_type": "code",
   "execution_count": 3,
   "metadata": {},
   "outputs": [
    {
     "data": {
      "text/plain": [
       "array(['female', 'male'], dtype=object)"
      ]
     },
     "execution_count": 3,
     "metadata": {},
     "output_type": "execute_result"
    }
   ],
   "source": [
    "df['gender'].unique()"
   ]
  },
  {
   "cell_type": "code",
   "execution_count": 4,
   "metadata": {},
   "outputs": [
    {
     "data": {
      "text/plain": [
       "Index(['gender', 'race/ethnicity', 'parental level of education', 'lunch',\n",
       "       'test preparation course', 'math score', 'reading score',\n",
       "       'writing score'],\n",
       "      dtype='object')"
      ]
     },
     "execution_count": 4,
     "metadata": {},
     "output_type": "execute_result"
    }
   ],
   "source": [
    "df.columns\n"
   ]
  },
  {
   "cell_type": "code",
   "execution_count": 5,
   "metadata": {},
   "outputs": [
    {
     "name": "stdout",
     "output_type": "stream",
     "text": [
      "     gender     race parental_level_of_education         lunch  \\\n",
      "0    female  group B           bachelor's degree      standard   \n",
      "1    female  group C                some college      standard   \n",
      "2    female  group B             master's degree      standard   \n",
      "3      male  group A          associate's degree  free/reduced   \n",
      "4      male  group C                some college      standard   \n",
      "..      ...      ...                         ...           ...   \n",
      "995  female  group E             master's degree      standard   \n",
      "996    male  group C                 high school  free/reduced   \n",
      "997  female  group C                 high school  free/reduced   \n",
      "998  female  group D                some college      standard   \n",
      "999  female  group D                some college  free/reduced   \n",
      "\n",
      "    test_preparation_course  math_score  reading_score  writing_score  \n",
      "0                      none          72             72             74  \n",
      "1                 completed          69             90             88  \n",
      "2                      none          90             95             93  \n",
      "3                      none          47             57             44  \n",
      "4                      none          76             78             75  \n",
      "..                      ...         ...            ...            ...  \n",
      "995               completed          88             99             95  \n",
      "996                    none          62             55             55  \n",
      "997               completed          59             71             65  \n",
      "998               completed          68             78             77  \n",
      "999                    none          77             86             86  \n",
      "\n",
      "[1000 rows x 8 columns]\n"
     ]
    }
   ],
   "source": [
    "df.rename(\n",
    "    columns={\n",
    "        'gender':'gender',\n",
    "        'race/ethnicity':'race',\n",
    "        'parental level of education':'parental_level_of_education',\n",
    "        'lunch':'lunch',\n",
    "        'test preparation course':'test_preparation_course',\n",
    "        'math score':'math_score',\n",
    "        'reading score':'reading_score',\n",
    "        'writing score':'writing_score'\n",
    "\n",
    "    },\n",
    "inplace= True\n",
    ")\n",
    "print(df)"
   ]
  },
  {
   "cell_type": "code",
   "execution_count": 6,
   "metadata": {},
   "outputs": [
    {
     "data": {
      "text/html": [
       "<div>\n",
       "<style scoped>\n",
       "    .dataframe tbody tr th:only-of-type {\n",
       "        vertical-align: middle;\n",
       "    }\n",
       "\n",
       "    .dataframe tbody tr th {\n",
       "        vertical-align: top;\n",
       "    }\n",
       "\n",
       "    .dataframe thead th {\n",
       "        text-align: right;\n",
       "    }\n",
       "</style>\n",
       "<table border=\"1\" class=\"dataframe\">\n",
       "  <thead>\n",
       "    <tr style=\"text-align: right;\">\n",
       "      <th></th>\n",
       "      <th>math_score</th>\n",
       "      <th>reading_score</th>\n",
       "      <th>writing_score</th>\n",
       "    </tr>\n",
       "  </thead>\n",
       "  <tbody>\n",
       "    <tr>\n",
       "      <th>count</th>\n",
       "      <td>1000.00000</td>\n",
       "      <td>1000.000000</td>\n",
       "      <td>1000.000000</td>\n",
       "    </tr>\n",
       "    <tr>\n",
       "      <th>mean</th>\n",
       "      <td>66.08900</td>\n",
       "      <td>69.169000</td>\n",
       "      <td>68.054000</td>\n",
       "    </tr>\n",
       "    <tr>\n",
       "      <th>std</th>\n",
       "      <td>15.16308</td>\n",
       "      <td>14.600192</td>\n",
       "      <td>15.195657</td>\n",
       "    </tr>\n",
       "    <tr>\n",
       "      <th>min</th>\n",
       "      <td>0.00000</td>\n",
       "      <td>17.000000</td>\n",
       "      <td>10.000000</td>\n",
       "    </tr>\n",
       "    <tr>\n",
       "      <th>25%</th>\n",
       "      <td>57.00000</td>\n",
       "      <td>59.000000</td>\n",
       "      <td>57.750000</td>\n",
       "    </tr>\n",
       "    <tr>\n",
       "      <th>50%</th>\n",
       "      <td>66.00000</td>\n",
       "      <td>70.000000</td>\n",
       "      <td>69.000000</td>\n",
       "    </tr>\n",
       "    <tr>\n",
       "      <th>75%</th>\n",
       "      <td>77.00000</td>\n",
       "      <td>79.000000</td>\n",
       "      <td>79.000000</td>\n",
       "    </tr>\n",
       "    <tr>\n",
       "      <th>max</th>\n",
       "      <td>100.00000</td>\n",
       "      <td>100.000000</td>\n",
       "      <td>100.000000</td>\n",
       "    </tr>\n",
       "  </tbody>\n",
       "</table>\n",
       "</div>"
      ],
      "text/plain": [
       "       math_score  reading_score  writing_score\n",
       "count  1000.00000    1000.000000    1000.000000\n",
       "mean     66.08900      69.169000      68.054000\n",
       "std      15.16308      14.600192      15.195657\n",
       "min       0.00000      17.000000      10.000000\n",
       "25%      57.00000      59.000000      57.750000\n",
       "50%      66.00000      70.000000      69.000000\n",
       "75%      77.00000      79.000000      79.000000\n",
       "max     100.00000     100.000000     100.000000"
      ]
     },
     "execution_count": 6,
     "metadata": {},
     "output_type": "execute_result"
    }
   ],
   "source": [
    "df.describe()"
   ]
  },
  {
   "cell_type": "code",
   "execution_count": 7,
   "metadata": {},
   "outputs": [
    {
     "name": "stdout",
     "output_type": "stream",
     "text": [
      "17\n",
      "7\n",
      "14\n"
     ]
    }
   ],
   "source": [
    "reading_full = df[df['reading_score'] == 100 ]['reading_score'].count()\n",
    "math_full = df[df['math_score'] == 100 ]['math_score'].count()\n",
    "writing_full = df[df['writing_score'] == 100 ]['writing_score'].count()\n",
    "print(reading_full)\n",
    "print(math_full)\n",
    "print(writing_full)"
   ]
  },
  {
   "cell_type": "code",
   "execution_count": 8,
   "metadata": {},
   "outputs": [
    {
     "name": "stdout",
     "output_type": "stream",
     "text": [
      "     gender     race parental_level_of_education         lunch  \\\n",
      "0    female  group B           bachelor's degree      standard   \n",
      "1    female  group C                some college      standard   \n",
      "2    female  group B             master's degree      standard   \n",
      "3      male  group A          associate's degree  free/reduced   \n",
      "4      male  group C                some college      standard   \n",
      "..      ...      ...                         ...           ...   \n",
      "995  female  group E             master's degree      standard   \n",
      "996    male  group C                 high school  free/reduced   \n",
      "997  female  group C                 high school  free/reduced   \n",
      "998  female  group D                some college      standard   \n",
      "999  female  group D                some college  free/reduced   \n",
      "\n",
      "    test_preparation_course  math_score  reading_score  writing_score  \\\n",
      "0                      none          72             72             74   \n",
      "1                 completed          69             90             88   \n",
      "2                      none          90             95             93   \n",
      "3                      none          47             57             44   \n",
      "4                      none          76             78             75   \n",
      "..                      ...         ...            ...            ...   \n",
      "995               completed          88             99             95   \n",
      "996                    none          62             55             55   \n",
      "997               completed          59             71             65   \n",
      "998               completed          68             78             77   \n",
      "999                    none          77             86             86   \n",
      "\n",
      "    pass_math pass_reading pass_writing  \n",
      "0         yes          yes          yes  \n",
      "1         yes          yes          yes  \n",
      "2         yes          yes          yes  \n",
      "3          no          yes           no  \n",
      "4         yes          yes          yes  \n",
      "..        ...          ...          ...  \n",
      "995       yes          yes          yes  \n",
      "996       yes          yes          yes  \n",
      "997       yes          yes          yes  \n",
      "998       yes          yes          yes  \n",
      "999       yes          yes          yes  \n",
      "\n",
      "[1000 rows x 11 columns]\n"
     ]
    }
   ],
   "source": [
    "pass_great = 50\n",
    "df['pass_math']= 'yes'\n",
    "filt = (df['math_score'] < pass_great)\n",
    "df.loc[filt, 'pass_math'] = 'no'\n",
    "df[[\"math_score\" , 'pass_math']].head()\n",
    "\n",
    "pass_great = 50\n",
    "df['pass_reading']= 'yes'\n",
    "filt = (df['reading_score'] < pass_great)\n",
    "df.loc[filt, 'pass_reading'] = 'no'\n",
    "df[[\"reading_score\" , 'pass_reading']].head()\n",
    "\n",
    "pass_great = 50\n",
    "df['pass_writing']= 'yes'\n",
    "filt = (df['writing_score'] < pass_great)\n",
    "df.loc[filt, 'pass_writing'] = 'no'\n",
    "df[[\"writing_score\" , 'pass_writing']].head()\n",
    "\n",
    "print(df)\n"
   ]
  },
  {
   "cell_type": "code",
   "execution_count": 10,
   "metadata": {},
   "outputs": [
    {
     "name": "stdout",
     "output_type": "stream",
     "text": [
      "pass_math\n",
      "no     135\n",
      "yes    865\n",
      "Name: pass_math, dtype: int64\n"
     ]
    }
   ],
   "source": [
    "pass_math_count = df.groupby('pass_math')['pass_math'].count()\n",
    "print(pass_math_count)"
   ]
  },
  {
   "cell_type": "code",
   "execution_count": null,
   "metadata": {},
   "outputs": [],
   "source": []
  }
 ],
 "metadata": {
  "kernelspec": {
   "display_name": "data-analysis",
   "language": "python",
   "name": "python3"
  },
  "language_info": {
   "codemirror_mode": {
    "name": "ipython",
    "version": 3
   },
   "file_extension": ".py",
   "mimetype": "text/x-python",
   "name": "python",
   "nbconvert_exporter": "python",
   "pygments_lexer": "ipython3",
   "version": "3.12.0"
  }
 },
 "nbformat": 4,
 "nbformat_minor": 2
}
